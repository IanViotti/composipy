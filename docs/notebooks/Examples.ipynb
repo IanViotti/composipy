{
 "cells": [
  {
   "cell_type": "markdown",
   "id": "7bd4cf36",
   "metadata": {},
   "source": [
    "# Creating a ply"
   ]
  },
  {
   "cell_type": "code",
   "execution_count": 1,
   "id": "6961b043",
   "metadata": {},
   "outputs": [],
   "source": [
    "from composipy import Ply, Laminate"
   ]
  },
  {
   "cell_type": "code",
   "execution_count": 2,
   "id": "e42643d9",
   "metadata": {},
   "outputs": [],
   "source": [
    "E1 = 129500\n",
    "E2 = 9370\n",
    "v12 = 0.38\n",
    "G12 = 5240\n",
    "t = 0.2"
   ]
  },
  {
   "cell_type": "code",
   "execution_count": 10,
   "id": "52413795",
   "metadata": {},
   "outputs": [
    {
     "data": {
      "text/plain": [
       "Ply(TAPE CARBON, E1 = 129500, E2 = 9370, \n",
       "    v12 = 0.38, G12 = 5240, thickness = 0.2)"
      ]
     },
     "execution_count": 10,
     "metadata": {},
     "output_type": "execute_result"
    }
   ],
   "source": [
    "p1 = Ply(E1, E2, v12, G12, t, name='TAPE CARBON') #Ply 1\n",
    "p2 = Ply(E1, E1, v12, G12, t,  name='FABRIC CARBON') #Ply 2 (E2 = E1)\n",
    "p1 # Ply 1 representation"
   ]
  },
  {
   "cell_type": "code",
   "execution_count": 11,
   "id": "ab8370c2",
   "metadata": {},
   "outputs": [
    {
     "data": {
      "text/plain": [
       "array([[130867.31382151,   3598.19426713,      0.        ],\n",
       "       [  3598.19426713,   9468.93228191,      0.        ],\n",
       "       [     0.        ,      0.        ,   5240.        ]])"
      ]
     },
     "execution_count": 11,
     "metadata": {},
     "output_type": "execute_result"
    }
   ],
   "source": [
    "p1.Q_0 # Compliance matrix"
   ]
  },
  {
   "cell_type": "code",
   "execution_count": 12,
   "id": "67d1a9cf",
   "metadata": {},
   "outputs": [
    {
     "data": {
      "text/plain": [
       "'TAPE CARBON'"
      ]
     },
     "execution_count": 12,
     "metadata": {},
     "output_type": "execute_result"
    }
   ],
   "source": [
    "p1.name"
   ]
  },
  {
   "cell_type": "code",
   "execution_count": 13,
   "id": "d12087aa",
   "metadata": {},
   "outputs": [
    {
     "data": {
      "text/plain": [
       "'FABRIC CARBON'"
      ]
     },
     "execution_count": 13,
     "metadata": {},
     "output_type": "execute_result"
    }
   ],
   "source": [
    "p2.name"
   ]
  },
  {
   "cell_type": "markdown",
   "id": "60a22bfb",
   "metadata": {},
   "source": [
    "# Creating a laminate"
   ]
  },
  {
   "cell_type": "code",
   "execution_count": 14,
   "id": "7dbe4999",
   "metadata": {},
   "outputs": [],
   "source": [
    "layup_1 = [\n",
    "    (90, p1),\n",
    "    (90, p2),\n",
    "    (0, p1),\n",
    "    (45, p2),\n",
    "    (-45, p2),\n",
    "    (0, p1),\n",
    "    (90, p2),\n",
    "    (90, p1)\n",
    "    ]"
   ]
  },
  {
   "cell_type": "code",
   "execution_count": 15,
   "id": "5977a2c2",
   "metadata": {},
   "outputs": [],
   "source": [
    "laminate_1 = Laminate(layup_1)"
   ]
  },
  {
   "cell_type": "code",
   "execution_count": 16,
   "id": "47578257",
   "metadata": {},
   "outputs": [
    {
     "data": {
      "text/plain": [
       "TAPE CARBON90        |||||     \n",
       "FABRIC CARBON90        |||||     \n",
       "TAPE CARBON0         =====     \n",
       "FABRIC CARBON45        /////     \n",
       "FABRIC CARBON-45       /////     \n",
       "TAPE CARBON0         =====     \n",
       "FABRIC CARBON90        |||||     \n",
       "TAPE CARBON90        |||||     "
      ]
     },
     "execution_count": 16,
     "metadata": {},
     "output_type": "execute_result"
    }
   ],
   "source": [
    "laminate_1"
   ]
  },
  {
   "cell_type": "code",
   "execution_count": null,
   "id": "62d21100",
   "metadata": {},
   "outputs": [],
   "source": []
  },
  {
   "cell_type": "code",
   "execution_count": null,
   "id": "c697c6b5",
   "metadata": {},
   "outputs": [],
   "source": []
  },
  {
   "cell_type": "code",
   "execution_count": null,
   "id": "047f1a96",
   "metadata": {},
   "outputs": [],
   "source": []
  }
 ],
 "metadata": {
  "kernelspec": {
   "display_name": "Python 3 (ipykernel)",
   "language": "python",
   "name": "python3"
  },
  "language_info": {
   "codemirror_mode": {
    "name": "ipython",
    "version": 3
   },
   "file_extension": ".py",
   "mimetype": "text/x-python",
   "name": "python",
   "nbconvert_exporter": "python",
   "pygments_lexer": "ipython3",
   "version": "3.9.7"
  }
 },
 "nbformat": 4,
 "nbformat_minor": 5
}
